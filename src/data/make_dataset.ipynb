{
 "cells": [
  {
   "cell_type": "code",
   "execution_count": 1,
   "metadata": {},
   "outputs": [],
   "source": [
    "import pandas as pd\n",
    "import matplotlib.pyplot as plt\n",
    "\n",
    "from glob import glob"
   ]
  },
  {
   "cell_type": "markdown",
   "metadata": {},
   "source": [
    "# --------------------------------------------------------------\n",
    "# Read single CSV file\n",
    "# --------------------------------------------------------------"
   ]
  },
  {
   "cell_type": "code",
   "execution_count": 2,
   "metadata": {},
   "outputs": [],
   "source": [
    "single_file_acc=pd.read_csv(\"../../data/raw/MetaMotion/MetaMotion/A-bench-heavy2-rpe8_MetaWear_2019-01-11T16.10.08.270_C42732BE255C_Accelerometer_12.500Hz_1.4.4.csv\")\n",
    "#print(single_file_acc.head())\n",
    "\n",
    "single_file_gyr=pd.read_csv(\"../../data/raw/MetaMotion/MetaMotion/A-bench-heavy2_MetaWear_2019-01-14T14.27.00.784_C42732BE255C_Accelerometer_12.500Hz_1.4.4.csv\")\n",
    "#print(single_file_gyr.head())"
   ]
  },
  {
   "cell_type": "code",
   "execution_count": 3,
   "metadata": {},
   "outputs": [],
   "source": [
    "# --------------------------------------------------------------\n",
    "# List all data in data/raw/MetaMotion\n",
    "# --------------------------------------------------------------\n",
    "files=glob(\"../../data/raw/MetaMotion/MetaMotion/*.csv\")\n",
    "#print(len(files))"
   ]
  },
  {
   "cell_type": "markdown",
   "metadata": {},
   "source": [
    "# --------------------------------------------------------------\n",
    "# Extract features from filename\n",
    "# --------------------------------------------------------------"
   ]
  },
  {
   "cell_type": "code",
   "execution_count": 4,
   "metadata": {},
   "outputs": [
    {
     "name": "stdout",
     "output_type": "stream",
     "text": [
      "../../data/raw/MetaMotion/MetaMotion\\A-bench-heavy2-rpe8_MetaWear_2019-01-11T16.10.08.270_C42732BE255C_Gyroscope_25.000Hz_1.4.4.csv\n"
     ]
    }
   ],
   "source": [
    "data_path=\"../../data/raw/MetaMotion/MetaMotion\"\n",
    "f=files[1]\n",
    "print(f)\n",
    "\n",
    "participant=f.split(\"-\")[0].replace(data_path,\"\")\n",
    "label=f.split(\"-\")[1]\n",
    "category=f.split(\"-\")[2].rstrip(\"123\").rstrip(\"_MetaWear_2019\")\n",
    "\n",
    "df=pd.read_csv(f)\n",
    "df[\"participant\"]=participant\n",
    "df[\"label\"]=label\n",
    "df[\"category\"]=category\n",
    "#print(df)"
   ]
  },
  {
   "cell_type": "markdown",
   "metadata": {},
   "source": [
    "# --------------------------------------------------------------\n",
    "# Read all files\n",
    "# --------------------------------------------------------------"
   ]
  },
  {
   "cell_type": "code",
   "execution_count": 5,
   "metadata": {},
   "outputs": [],
   "source": [
    "acc_df=pd.DataFrame()\n",
    "gyr_df=pd.DataFrame()\n",
    "\n",
    "acc_set=1\n",
    "gyr_set=1\n",
    "\n",
    "for f in files:\n",
    "    participant=f.split(\"-\")[0].replace(data_path,\"\")\n",
    "    label=f.split(\"-\")[1]\n",
    "    category=f.split(\"-\")[2].rstrip(\"123\").rstrip(\"_MetaWear_2019\")\n",
    "    #print(category)\n",
    "\n",
    "    df=pd.read_csv(f)\n",
    "    df[\"participant\"]=participant\n",
    "    df[\"label\"]=label\n",
    "    df[\"category\"]=category\n",
    "\n",
    "    if \"Accelerometer\" in f:\n",
    "        df[\"set\"]=acc_set\n",
    "        acc_set+=1\n",
    "        acc_df=pd.concat([acc_df,df])\n",
    "    if \"Gyroscope\" in f:\n",
    "        df[\"set\"]=gyr_set\n",
    "        gyr_set+=1\n",
    "        gyr_df=pd.concat([gyr_df,df])\n",
    "\n",
    "#print(gyr_df.shape)\n"
   ]
  },
  {
   "cell_type": "code",
   "execution_count": 6,
   "metadata": {},
   "outputs": [
    {
     "name": "stdout",
     "output_type": "stream",
     "text": [
      "<class 'pandas.core.frame.DataFrame'>\n",
      "Index: 23578 entries, 0 to 241\n",
      "Data columns (total 10 columns):\n",
      " #   Column        Non-Null Count  Dtype  \n",
      "---  ------        --------------  -----  \n",
      " 0   epoch (ms)    23578 non-null  int64  \n",
      " 1   time (01:00)  23578 non-null  object \n",
      " 2   elapsed (s)   23578 non-null  float64\n",
      " 3   x-axis (g)    23578 non-null  float64\n",
      " 4   y-axis (g)    23578 non-null  float64\n",
      " 5   z-axis (g)    23578 non-null  float64\n",
      " 6   participant   23578 non-null  object \n",
      " 7   label         23578 non-null  object \n",
      " 8   category      23578 non-null  object \n",
      " 9   set           23578 non-null  int64  \n",
      "dtypes: float64(4), int64(2), object(4)\n",
      "memory usage: 2.0+ MB\n"
     ]
    }
   ],
   "source": [
    "acc_df.info()\n",
    "pd.to_datetime(df[\"epoch (ms)\"],unit=\"ms\")\n",
    "acc_df.index=pd.to_datetime(acc_df[\"epoch (ms)\"],unit=\"ms\")\n",
    "gyr_df.index=pd.to_datetime(gyr_df[\"epoch (ms)\"],unit=\"ms\")\n",
    "\n",
    "del acc_df[\"epoch (ms)\"]\n",
    "del acc_df[\"time (01:00)\"]\n",
    "del acc_df[\"elapsed (s)\"]\n",
    "\n",
    "del gyr_df[\"epoch (ms)\"]\n",
    "del gyr_df[\"time (01:00)\"]\n",
    "del gyr_df[\"elapsed (s)\"]\n",
    "\n"
   ]
  },
  {
   "cell_type": "code",
   "execution_count": 7,
   "metadata": {},
   "outputs": [],
   "source": [
    "# --------------------------------------------------------------\n",
    "# Turn into function\n",
    "# --------------------------------------------------------------\n",
    "files=glob(\"../../data/raw/MetaMotion/MetaMotion/*.csv\")\n",
    "\n",
    "def read_data_from_files(files):\n",
    "    acc_df=pd.DataFrame()\n",
    "    gyr_df=pd.DataFrame()\n",
    "\n",
    "    acc_set=1\n",
    "    gyr_set=1\n",
    "\n",
    "    for f in files:\n",
    "        participant=f.split(\"-\")[0].replace(data_path,\"\")\n",
    "        label=f.split(\"-\")[1]\n",
    "        category=f.split(\"-\")[2].rstrip(\"123\").rstrip(\"_MetaWear_2019\")\n",
    "        #print(category)\n",
    "\n",
    "        df=pd.read_csv(f)\n",
    "        df[\"participant\"]=participant\n",
    "        df[\"label\"]=label\n",
    "        df[\"category\"]=category\n",
    "\n",
    "        if \"Accelerometer\" in f:\n",
    "            df[\"set\"]=acc_set\n",
    "            acc_set+=1\n",
    "            acc_df=pd.concat([acc_df,df])\n",
    "        if \"Gyroscope\" in f:\n",
    "            df[\"set\"]=gyr_set\n",
    "            gyr_set+=1\n",
    "            gyr_df=pd.concat([gyr_df,df])\n",
    "    acc_df.index=pd.to_datetime(acc_df[\"epoch (ms)\"],unit=\"ms\")\n",
    "    gyr_df.index=pd.to_datetime(gyr_df[\"epoch (ms)\"],unit=\"ms\")\n",
    "\n",
    "    del acc_df[\"epoch (ms)\"]\n",
    "    del acc_df[\"time (01:00)\"]\n",
    "    del acc_df[\"elapsed (s)\"]\n",
    "\n",
    "    del gyr_df[\"epoch (ms)\"]\n",
    "    del gyr_df[\"time (01:00)\"]\n",
    "    del gyr_df[\"elapsed (s)\"]\n",
    "\n",
    "    return acc_df,gyr_df\n",
    "\n",
    "acc_df,gyr_df=read_data_from_files(files)"
   ]
  },
  {
   "cell_type": "code",
   "execution_count": 8,
   "metadata": {},
   "outputs": [],
   "source": [
    "# --------------------------------------------------------------\n",
    "# Merging datasets\n",
    "# --------------------------------------------------------------\n",
    "data_merged=pd.concat([acc_df.iloc[:,:3],gyr_df],axis=1)\n",
    "# rename columns\n",
    "data_merged.columns=[\"acc_x\",\"acc_y\",\"acc_z\",\"gyr_x\",\"gyr_y\",\"gyr_z\",\"participant\",\"label\",\"category\",\"set\"]\n"
   ]
  },
  {
   "cell_type": "code",
   "execution_count": 9,
   "metadata": {},
   "outputs": [
    {
     "name": "stdout",
     "output_type": "stream",
     "text": [
      "<class 'pandas.core.frame.DataFrame'>\n",
      "DatetimeIndex: 9009 entries, 2019-01-11 15:08:05.200000 to 2019-01-20 17:33:27.800000\n",
      "Data columns (total 10 columns):\n",
      " #   Column       Non-Null Count  Dtype  \n",
      "---  ------       --------------  -----  \n",
      " 0   acc_x        9009 non-null   float64\n",
      " 1   acc_y        9009 non-null   float64\n",
      " 2   acc_z        9009 non-null   float64\n",
      " 3   gyr_x        9009 non-null   float64\n",
      " 4   gyr_y        9009 non-null   float64\n",
      " 5   gyr_z        9009 non-null   float64\n",
      " 6   participant  9009 non-null   object \n",
      " 7   label        9009 non-null   object \n",
      " 8   category     9009 non-null   object \n",
      " 9   set          9009 non-null   int32  \n",
      "dtypes: float64(6), int32(1), object(3)\n",
      "memory usage: 739.0+ KB\n"
     ]
    }
   ],
   "source": [
    "# --------------------------------------------------------------\n",
    "# Resample data (frequency conversion)\n",
    "# --------------------------------------------------------------\n",
    "\n",
    "# Accelerometer:    12.500HZ\n",
    "# Gyroscope:        25.000Hz\n",
    "\n",
    "sampling={\"acc_x\":\"mean\",\"acc_y\":\"mean\",\"acc_z\":\"mean\",\"gyr_x\":\"mean\",\"gyr_y\":\"mean\",\"gyr_z\":\"mean\",\"participant\":\"last\",\"label\":\"last\",\"category\":\"last\",\"set\":\"last\",}\n",
    "data_merged[:1000].resample(rule=\"200ms\").apply(sampling)\n",
    "# split by day\n",
    "days=[g for n,g in data_merged.groupby(pd.Grouper(freq=\"D\"))]\n",
    "data_resampled=pd.concat([df.resample(rule=\"200ms\").apply(sampling).dropna() for df in days])\n",
    "data_resampled[\"set\"]= data_resampled[\"set\"].astype(\"int\")\n",
    "data_resampled.info()"
   ]
  },
  {
   "cell_type": "code",
   "execution_count": 10,
   "metadata": {},
   "outputs": [],
   "source": [
    "# --------------------------------------------------------------\n",
    "# Export dataset\n",
    "# --------------------------------------------------------------\n",
    "data_resampled.to_pickle(\"../../data/interim/01_data_processed.pkl\")"
   ]
  },
  {
   "cell_type": "code",
   "execution_count": 11,
   "metadata": {},
   "outputs": [
    {
     "name": "stdout",
     "output_type": "stream",
     "text": [
      "Collecting matplotlib\n",
      "  Downloading matplotlib-3.7.5-cp38-cp38-win_amd64.whl.metadata (5.8 kB)\n",
      "Collecting contourpy>=1.0.1 (from matplotlib)\n",
      "  Using cached contourpy-1.1.1-cp38-cp38-win_amd64.whl.metadata (5.9 kB)\n",
      "Collecting cycler>=0.10 (from matplotlib)\n",
      "  Using cached cycler-0.12.1-py3-none-any.whl.metadata (3.8 kB)\n",
      "Collecting fonttools>=4.22.0 (from matplotlib)\n",
      "  Downloading fonttools-4.56.0-cp38-cp38-win_amd64.whl.metadata (103 kB)\n",
      "Collecting kiwisolver>=1.0.1 (from matplotlib)\n",
      "  Using cached kiwisolver-1.4.7-cp38-cp38-win_amd64.whl.metadata (6.4 kB)\n",
      "Requirement already satisfied: numpy<2,>=1.20 in c:\\users\\manis\\.conda\\envs\\tracking-barbell-exercises\\lib\\site-packages (from matplotlib) (1.24.3)\n",
      "Requirement already satisfied: packaging>=20.0 in c:\\users\\manis\\.conda\\envs\\tracking-barbell-exercises\\lib\\site-packages (from matplotlib) (24.2)\n",
      "Collecting pillow>=6.2.0 (from matplotlib)\n",
      "  Using cached pillow-10.4.0-cp38-cp38-win_amd64.whl.metadata (9.3 kB)\n",
      "Collecting pyparsing>=2.3.1 (from matplotlib)\n",
      "  Using cached pyparsing-3.1.4-py3-none-any.whl.metadata (5.1 kB)\n",
      "Requirement already satisfied: python-dateutil>=2.7 in c:\\users\\manis\\.conda\\envs\\tracking-barbell-exercises\\lib\\site-packages (from matplotlib) (2.9.0)\n",
      "Collecting importlib-resources>=3.2.0 (from matplotlib)\n",
      "  Downloading importlib_resources-6.4.5-py3-none-any.whl.metadata (4.0 kB)\n",
      "Requirement already satisfied: zipp>=3.1.0 in c:\\users\\manis\\.conda\\envs\\tracking-barbell-exercises\\lib\\site-packages (from importlib-resources>=3.2.0->matplotlib) (3.21.0)\n",
      "Requirement already satisfied: six>=1.5 in c:\\users\\manis\\.conda\\envs\\tracking-barbell-exercises\\lib\\site-packages (from python-dateutil>=2.7->matplotlib) (1.16.0)\n",
      "Downloading matplotlib-3.7.5-cp38-cp38-win_amd64.whl (7.5 MB)\n",
      "   ---------------------------------------- 0.0/7.5 MB ? eta -:--:--\n",
      "   -- ------------------------------------- 0.5/7.5 MB 3.4 MB/s eta 0:00:03\n",
      "   ----- ---------------------------------- 1.0/7.5 MB 2.5 MB/s eta 0:00:03\n",
      "   -------- ------------------------------- 1.6/7.5 MB 2.7 MB/s eta 0:00:03\n",
      "   ------------ --------------------------- 2.4/7.5 MB 3.1 MB/s eta 0:00:02\n",
      "   --------------- ------------------------ 2.9/7.5 MB 2.8 MB/s eta 0:00:02\n",
      "   ------------------ --------------------- 3.4/7.5 MB 2.7 MB/s eta 0:00:02\n",
      "   ----------------------- ---------------- 4.5/7.5 MB 3.0 MB/s eta 0:00:02\n",
      "   ----------------------------- ---------- 5.5/7.5 MB 3.3 MB/s eta 0:00:01\n",
      "   ------------------------------ --------- 5.8/7.5 MB 3.0 MB/s eta 0:00:01\n",
      "   --------------------------------- ------ 6.3/7.5 MB 3.2 MB/s eta 0:00:01\n",
      "   ---------------------------------------  7.3/7.5 MB 3.2 MB/s eta 0:00:01\n",
      "   ---------------------------------------- 7.5/7.5 MB 3.2 MB/s eta 0:00:00\n",
      "Downloading contourpy-1.1.1-cp38-cp38-win_amd64.whl (477 kB)\n",
      "Using cached cycler-0.12.1-py3-none-any.whl (8.3 kB)\n",
      "Downloading fonttools-4.56.0-cp38-cp38-win_amd64.whl (1.5 MB)\n",
      "   ---------------------------------------- 0.0/1.5 MB ? eta -:--:--\n",
      "   ------------- -------------------------- 0.5/1.5 MB 5.6 MB/s eta 0:00:01\n",
      "   --------------------------- ------------ 1.0/1.5 MB 2.8 MB/s eta 0:00:01\n",
      "   ---------------------------------------- 1.5/1.5 MB 2.7 MB/s eta 0:00:00\n",
      "Downloading importlib_resources-6.4.5-py3-none-any.whl (36 kB)\n",
      "Downloading kiwisolver-1.4.7-cp38-cp38-win_amd64.whl (55 kB)\n",
      "Downloading pillow-10.4.0-cp38-cp38-win_amd64.whl (2.6 MB)\n",
      "   ---------------------------------------- 0.0/2.6 MB ? eta -:--:--\n",
      "   ---- ----------------------------------- 0.3/2.6 MB ? eta -:--:--\n",
      "   ---------------- ----------------------- 1.0/2.6 MB 2.8 MB/s eta 0:00:01\n",
      "   ---------------------------- ----------- 1.8/2.6 MB 2.9 MB/s eta 0:00:01\n",
      "   ------------------------------------ --- 2.4/2.6 MB 2.9 MB/s eta 0:00:01\n",
      "   ---------------------------------------- 2.6/2.6 MB 2.5 MB/s eta 0:00:00\n",
      "Downloading pyparsing-3.1.4-py3-none-any.whl (104 kB)\n",
      "Installing collected packages: pyparsing, pillow, kiwisolver, importlib-resources, fonttools, cycler, contourpy, matplotlib\n",
      "Successfully installed contourpy-1.1.1 cycler-0.12.1 fonttools-4.56.0 importlib-resources-6.4.5 kiwisolver-1.4.7 matplotlib-3.7.5 pillow-10.4.0 pyparsing-3.1.4\n",
      "Note: you may need to restart the kernel to use updated packages.\n"
     ]
    }
   ],
   "source": [
    "pip install matplotlib"
   ]
  },
  {
   "cell_type": "code",
   "execution_count": 13,
   "metadata": {},
   "outputs": [
    {
     "name": "stdout",
     "output_type": "stream",
     "text": [
      "Collecting seaborn\n",
      "  Using cached seaborn-0.13.2-py3-none-any.whl.metadata (5.4 kB)\n",
      "Requirement already satisfied: numpy!=1.24.0,>=1.20 in c:\\users\\manis\\.conda\\envs\\tracking-barbell-exercises\\lib\\site-packages (from seaborn) (1.24.3)\n",
      "Requirement already satisfied: pandas>=1.2 in c:\\users\\manis\\.conda\\envs\\tracking-barbell-exercises\\lib\\site-packages (from seaborn) (2.0.3)\n",
      "Requirement already satisfied: matplotlib!=3.6.1,>=3.4 in c:\\users\\manis\\.conda\\envs\\tracking-barbell-exercises\\lib\\site-packages (from seaborn) (3.7.5)\n",
      "Requirement already satisfied: contourpy>=1.0.1 in c:\\users\\manis\\.conda\\envs\\tracking-barbell-exercises\\lib\\site-packages (from matplotlib!=3.6.1,>=3.4->seaborn) (1.1.1)\n",
      "Requirement already satisfied: cycler>=0.10 in c:\\users\\manis\\.conda\\envs\\tracking-barbell-exercises\\lib\\site-packages (from matplotlib!=3.6.1,>=3.4->seaborn) (0.12.1)\n",
      "Requirement already satisfied: fonttools>=4.22.0 in c:\\users\\manis\\.conda\\envs\\tracking-barbell-exercises\\lib\\site-packages (from matplotlib!=3.6.1,>=3.4->seaborn) (4.56.0)\n",
      "Requirement already satisfied: kiwisolver>=1.0.1 in c:\\users\\manis\\.conda\\envs\\tracking-barbell-exercises\\lib\\site-packages (from matplotlib!=3.6.1,>=3.4->seaborn) (1.4.7)\n",
      "Requirement already satisfied: packaging>=20.0 in c:\\users\\manis\\.conda\\envs\\tracking-barbell-exercises\\lib\\site-packages (from matplotlib!=3.6.1,>=3.4->seaborn) (24.2)\n",
      "Requirement already satisfied: pillow>=6.2.0 in c:\\users\\manis\\.conda\\envs\\tracking-barbell-exercises\\lib\\site-packages (from matplotlib!=3.6.1,>=3.4->seaborn) (10.4.0)\n",
      "Requirement already satisfied: pyparsing>=2.3.1 in c:\\users\\manis\\.conda\\envs\\tracking-barbell-exercises\\lib\\site-packages (from matplotlib!=3.6.1,>=3.4->seaborn) (3.1.4)\n",
      "Requirement already satisfied: python-dateutil>=2.7 in c:\\users\\manis\\.conda\\envs\\tracking-barbell-exercises\\lib\\site-packages (from matplotlib!=3.6.1,>=3.4->seaborn) (2.9.0)\n",
      "Requirement already satisfied: importlib-resources>=3.2.0 in c:\\users\\manis\\.conda\\envs\\tracking-barbell-exercises\\lib\\site-packages (from matplotlib!=3.6.1,>=3.4->seaborn) (6.4.5)\n",
      "Requirement already satisfied: pytz>=2020.1 in c:\\users\\manis\\.conda\\envs\\tracking-barbell-exercises\\lib\\site-packages (from pandas>=1.2->seaborn) (2024.2)\n",
      "Requirement already satisfied: tzdata>=2022.1 in c:\\users\\manis\\.conda\\envs\\tracking-barbell-exercises\\lib\\site-packages (from pandas>=1.2->seaborn) (2025.1)\n",
      "Requirement already satisfied: zipp>=3.1.0 in c:\\users\\manis\\.conda\\envs\\tracking-barbell-exercises\\lib\\site-packages (from importlib-resources>=3.2.0->matplotlib!=3.6.1,>=3.4->seaborn) (3.21.0)\n",
      "Requirement already satisfied: six>=1.5 in c:\\users\\manis\\.conda\\envs\\tracking-barbell-exercises\\lib\\site-packages (from python-dateutil>=2.7->matplotlib!=3.6.1,>=3.4->seaborn) (1.16.0)\n",
      "Using cached seaborn-0.13.2-py3-none-any.whl (294 kB)\n",
      "Installing collected packages: seaborn\n",
      "Successfully installed seaborn-0.13.2\n",
      "Note: you may need to restart the kernel to use updated packages.\n"
     ]
    }
   ],
   "source": [
    "pip install seaborn"
   ]
  },
  {
   "cell_type": "code",
   "execution_count": 4,
   "metadata": {},
   "outputs": [
    {
     "name": "stdout",
     "output_type": "stream",
     "text": [
      "None\n"
     ]
    }
   ],
   "source": [
    "import os\n",
    "output_dir = \"../../reports/figures/\"\n",
    "print(os.makedirs(output_dir, exist_ok=True))\n"
   ]
  },
  {
   "cell_type": "code",
   "execution_count": 5,
   "metadata": {},
   "outputs": [
    {
     "name": "stdout",
     "output_type": "stream",
     "text": [
      "Yes\n"
     ]
    }
   ],
   "source": [
    "output_dir=\"../../reports/figures/\"\n",
    "if os.path.exists(output_dir):\n",
    "    print(\"Yes\")\n",
    "else:\n",
    "    print(\"NO\")"
   ]
  },
  {
   "cell_type": "code",
   "execution_count": 7,
   "metadata": {},
   "outputs": [
    {
     "name": "stdout",
     "output_type": "stream",
     "text": [
      "c:\\Users\\manis\\Desktop\\Fitness Tracker\\reports\\figures\n"
     ]
    }
   ],
   "source": [
    "print(os.path.abspath(output_dir))"
   ]
  },
  {
   "cell_type": "code",
   "execution_count": 13,
   "metadata": {},
   "outputs": [],
   "source": [
    "import os\n",
    "\n",
    "save_dir = \"../../reports/figures/\"\n",
    "os.makedirs(save_dir, exist_ok=True)  # Ensure directory exists\n",
    "plt.savefig(os.path.join(save_dir, f\"{label.title()} ({participant}).png\"))\n"
   ]
  },
  {
   "cell_type": "code",
   "execution_count": 2,
   "metadata": {},
   "outputs": [
    {
     "name": "stdout",
     "output_type": "stream",
     "text": [
      "Collecting scikit-learn\n",
      "  Downloading scikit_learn-1.3.2-cp38-cp38-win_amd64.whl.metadata (11 kB)\n",
      "Requirement already satisfied: numpy<2.0,>=1.17.3 in c:\\users\\manis\\.conda\\envs\\tracking-barbell-exercises\\lib\\site-packages (from scikit-learn) (1.24.3)\n",
      "Collecting scipy>=1.5.0 (from scikit-learn)\n",
      "  Downloading scipy-1.10.1-cp38-cp38-win_amd64.whl.metadata (58 kB)\n",
      "Collecting joblib>=1.1.1 (from scikit-learn)\n",
      "  Using cached joblib-1.4.2-py3-none-any.whl.metadata (5.4 kB)\n",
      "Collecting threadpoolctl>=2.0.0 (from scikit-learn)\n",
      "  Using cached threadpoolctl-3.5.0-py3-none-any.whl.metadata (13 kB)\n",
      "Downloading scikit_learn-1.3.2-cp38-cp38-win_amd64.whl (9.3 MB)\n",
      "   ---------------------------------------- 0.0/9.3 MB ? eta -:--:--\n",
      "   ---------------------------------------- 0.0/9.3 MB ? eta -:--:--\n",
      "   --- ------------------------------------ 0.8/9.3 MB 3.3 MB/s eta 0:00:03\n",
      "   ------- -------------------------------- 1.8/9.3 MB 4.2 MB/s eta 0:00:02\n",
      "   ---------- ----------------------------- 2.4/9.3 MB 3.8 MB/s eta 0:00:02\n",
      "   -------------- ------------------------- 3.4/9.3 MB 4.0 MB/s eta 0:00:02\n",
      "   ------------------- -------------------- 4.5/9.3 MB 4.2 MB/s eta 0:00:02\n",
      "   --------------------- ------------------ 5.0/9.3 MB 3.9 MB/s eta 0:00:02\n",
      "   ------------------------ --------------- 5.8/9.3 MB 3.9 MB/s eta 0:00:01\n",
      "   ---------------------------- ----------- 6.6/9.3 MB 4.0 MB/s eta 0:00:01\n",
      "   ------------------------------- -------- 7.3/9.3 MB 3.9 MB/s eta 0:00:01\n",
      "   ------------------------------------- -- 8.7/9.3 MB 4.1 MB/s eta 0:00:01\n",
      "   ---------------------------------------- 9.3/9.3 MB 4.1 MB/s eta 0:00:00\n",
      "Using cached joblib-1.4.2-py3-none-any.whl (301 kB)\n",
      "Downloading scipy-1.10.1-cp38-cp38-win_amd64.whl (42.2 MB)\n",
      "   ---------------------------------------- 0.0/42.2 MB ? eta -:--:--\n",
      "    --------------------------------------- 0.8/42.2 MB 4.8 MB/s eta 0:00:09\n",
      "   - -------------------------------------- 2.1/42.2 MB 5.3 MB/s eta 0:00:08\n",
      "   -- ------------------------------------- 2.6/42.2 MB 4.9 MB/s eta 0:00:09\n",
      "   --- ------------------------------------ 3.4/42.2 MB 4.4 MB/s eta 0:00:09\n",
      "   ---- ----------------------------------- 4.5/42.2 MB 4.5 MB/s eta 0:00:09\n",
      "   ----- ---------------------------------- 5.5/42.2 MB 4.5 MB/s eta 0:00:09\n",
      "   ------ --------------------------------- 6.6/42.2 MB 4.6 MB/s eta 0:00:08\n",
      "   ------- -------------------------------- 7.6/42.2 MB 4.6 MB/s eta 0:00:08\n",
      "   ------- -------------------------------- 8.1/42.2 MB 4.5 MB/s eta 0:00:08\n",
      "   -------- ------------------------------- 8.9/42.2 MB 4.3 MB/s eta 0:00:08\n",
      "   --------- ------------------------------ 9.7/42.2 MB 4.3 MB/s eta 0:00:08\n",
      "   --------- ------------------------------ 10.2/42.2 MB 4.1 MB/s eta 0:00:08\n",
      "   ---------- ----------------------------- 11.0/42.2 MB 4.0 MB/s eta 0:00:08\n",
      "   ----------- ---------------------------- 11.8/42.2 MB 4.0 MB/s eta 0:00:08\n",
      "   ----------- ---------------------------- 12.1/42.2 MB 4.0 MB/s eta 0:00:08\n",
      "   ----------- ---------------------------- 12.6/42.2 MB 3.8 MB/s eta 0:00:08\n",
      "   ------------ --------------------------- 13.4/42.2 MB 3.8 MB/s eta 0:00:08\n",
      "   ------------- -------------------------- 13.9/42.2 MB 3.7 MB/s eta 0:00:08\n",
      "   ------------- -------------------------- 14.4/42.2 MB 3.7 MB/s eta 0:00:08\n",
      "   ------------- -------------------------- 14.7/42.2 MB 3.6 MB/s eta 0:00:08\n",
      "   -------------- ------------------------- 14.9/42.2 MB 3.5 MB/s eta 0:00:08\n",
      "   -------------- ------------------------- 15.7/42.2 MB 3.4 MB/s eta 0:00:08\n",
      "   --------------- ------------------------ 16.3/42.2 MB 3.4 MB/s eta 0:00:08\n",
      "   ---------------- ----------------------- 17.0/42.2 MB 3.4 MB/s eta 0:00:08\n",
      "   ---------------- ----------------------- 17.6/42.2 MB 3.4 MB/s eta 0:00:08\n",
      "   ----------------- ---------------------- 18.1/42.2 MB 3.3 MB/s eta 0:00:08\n",
      "   ----------------- ---------------------- 18.9/42.2 MB 3.3 MB/s eta 0:00:07\n",
      "   ------------------ --------------------- 19.7/42.2 MB 3.3 MB/s eta 0:00:07\n",
      "   ------------------- -------------------- 20.7/42.2 MB 3.4 MB/s eta 0:00:07\n",
      "   -------------------- ------------------- 21.2/42.2 MB 3.4 MB/s eta 0:00:07\n",
      "   -------------------- ------------------- 22.0/42.2 MB 3.4 MB/s eta 0:00:06\n",
      "   --------------------- ------------------ 22.8/42.2 MB 3.4 MB/s eta 0:00:06\n",
      "   ---------------------- ----------------- 23.6/42.2 MB 3.4 MB/s eta 0:00:06\n",
      "   ---------------------- ----------------- 24.1/42.2 MB 3.4 MB/s eta 0:00:06\n",
      "   ----------------------- ---------------- 24.9/42.2 MB 3.4 MB/s eta 0:00:06\n",
      "   ------------------------ --------------- 25.4/42.2 MB 3.4 MB/s eta 0:00:05\n",
      "   ------------------------ --------------- 26.2/42.2 MB 3.4 MB/s eta 0:00:05\n",
      "   ------------------------- -------------- 26.7/42.2 MB 3.4 MB/s eta 0:00:05\n",
      "   ------------------------- -------------- 27.3/42.2 MB 3.3 MB/s eta 0:00:05\n",
      "   -------------------------- ------------- 27.8/42.2 MB 3.3 MB/s eta 0:00:05\n",
      "   -------------------------- ------------- 28.3/42.2 MB 3.3 MB/s eta 0:00:05\n",
      "   --------------------------- ------------ 29.1/42.2 MB 3.3 MB/s eta 0:00:04\n",
      "   ---------------------------- ----------- 29.9/42.2 MB 3.3 MB/s eta 0:00:04\n",
      "   ----------------------------- ---------- 30.7/42.2 MB 3.3 MB/s eta 0:00:04\n",
      "   ----------------------------- ---------- 31.2/42.2 MB 3.3 MB/s eta 0:00:04\n",
      "   ------------------------------ --------- 32.0/42.2 MB 3.3 MB/s eta 0:00:04\n",
      "   ------------------------------ --------- 32.0/42.2 MB 3.3 MB/s eta 0:00:04\n",
      "   ------------------------------- -------- 32.8/42.2 MB 3.2 MB/s eta 0:00:03\n",
      "   ------------------------------- -------- 33.6/42.2 MB 3.2 MB/s eta 0:00:03\n",
      "   -------------------------------- ------- 34.1/42.2 MB 3.2 MB/s eta 0:00:03\n",
      "   --------------------------------- ------ 34.9/42.2 MB 3.2 MB/s eta 0:00:03\n",
      "   --------------------------------- ------ 35.7/42.2 MB 3.2 MB/s eta 0:00:03\n",
      "   ---------------------------------- ----- 36.7/42.2 MB 3.3 MB/s eta 0:00:02\n",
      "   ----------------------------------- ---- 37.7/42.2 MB 3.3 MB/s eta 0:00:02\n",
      "   ------------------------------------ --- 38.5/42.2 MB 3.3 MB/s eta 0:00:02\n",
      "   ------------------------------------ --- 38.8/42.2 MB 3.3 MB/s eta 0:00:02\n",
      "   ------------------------------------- -- 39.3/42.2 MB 3.3 MB/s eta 0:00:01\n",
      "   ------------------------------------- -- 39.8/42.2 MB 3.3 MB/s eta 0:00:01\n",
      "   -------------------------------------- - 40.4/42.2 MB 3.2 MB/s eta 0:00:01\n",
      "   -------------------------------------- - 40.9/42.2 MB 3.2 MB/s eta 0:00:01\n",
      "   ---------------------------------------  41.7/42.2 MB 3.2 MB/s eta 0:00:01\n",
      "   ---------------------------------------  42.2/42.2 MB 3.2 MB/s eta 0:00:01\n",
      "   ---------------------------------------- 42.2/42.2 MB 3.2 MB/s eta 0:00:00\n",
      "Using cached threadpoolctl-3.5.0-py3-none-any.whl (18 kB)\n",
      "Installing collected packages: threadpoolctl, scipy, joblib, scikit-learn\n",
      "Successfully installed joblib-1.4.2 scikit-learn-1.3.2 scipy-1.10.1 threadpoolctl-3.5.0\n",
      "Note: you may need to restart the kernel to use updated packages.\n"
     ]
    }
   ],
   "source": [
    "pip install scikit-learn"
   ]
  },
  {
   "cell_type": "code",
   "execution_count": 2,
   "metadata": {},
   "outputs": [
    {
     "name": "stdout",
     "output_type": "stream",
     "text": [
      "Note: you may need to restart the kernel to use updated packages.\n"
     ]
    },
    {
     "name": "stderr",
     "output_type": "stream",
     "text": [
      "ERROR: Ignored the following versions that require a different python version: 0.1.0 Requires-Python <4.0,>=3.9; 0.1.1 Requires-Python <4.0,>=3.9\n",
      "ERROR: Could not find a version that satisfies the requirement DataTransformation (from versions: none)\n",
      "ERROR: No matching distribution found for DataTransformation\n"
     ]
    }
   ],
   "source": [
    "pip install DataTransformation"
   ]
  },
  {
   "cell_type": "code",
   "execution_count": 1,
   "metadata": {},
   "outputs": [
    {
     "name": "stdout",
     "output_type": "stream",
     "text": [
      "Note: you may need to restart the kernel to use updated packages.\n"
     ]
    },
    {
     "name": "stderr",
     "output_type": "stream",
     "text": [
      "ERROR: Could not find a version that satisfies the requirement TemporalAbstraction (from versions: none)\n",
      "ERROR: No matching distribution found for TemporalAbstraction\n"
     ]
    }
   ],
   "source": [
    "pip install TemporalAbstraction"
   ]
  },
  {
   "cell_type": "code",
   "execution_count": 10,
   "metadata": {},
   "outputs": [
    {
     "data": {
      "text/plain": [
       "epoch (ms)\n",
       "2019-01-11 15:08:05.200    \\B\n",
       "2019-01-11 15:08:05.400    \\B\n",
       "2019-01-11 15:08:05.600    \\B\n",
       "2019-01-11 15:08:05.800    \\B\n",
       "2019-01-11 15:08:06.000    \\B\n",
       "                           ..\n",
       "2019-01-20 17:33:27.000    \\E\n",
       "2019-01-20 17:33:27.200    \\E\n",
       "2019-01-20 17:33:27.400    \\E\n",
       "2019-01-20 17:33:27.600    \\E\n",
       "2019-01-20 17:33:27.800    \\E\n",
       "Name: participant, Length: 9009, dtype: object"
      ]
     },
     "execution_count": 10,
     "metadata": {},
     "output_type": "execute_result"
    }
   ],
   "source": [
    "data_resampled[\"participant\"]"
   ]
  },
  {
   "cell_type": "code",
   "execution_count": 11,
   "metadata": {},
   "outputs": [],
   "source": [
    "data_resampled['participant']=df['participant'].str.replace(r'^\\\\','\"',regex=True)"
   ]
  },
  {
   "cell_type": "code",
   "execution_count": 12,
   "metadata": {},
   "outputs": [
    {
     "data": {
      "text/plain": [
       "epoch (ms)\n",
       "2019-01-11 15:08:05.200    NaN\n",
       "2019-01-11 15:08:05.400    NaN\n",
       "2019-01-11 15:08:05.600    NaN\n",
       "2019-01-11 15:08:05.800    NaN\n",
       "2019-01-11 15:08:06.000    NaN\n",
       "                          ... \n",
       "2019-01-20 17:33:27.000    NaN\n",
       "2019-01-20 17:33:27.200    NaN\n",
       "2019-01-20 17:33:27.400    NaN\n",
       "2019-01-20 17:33:27.600    NaN\n",
       "2019-01-20 17:33:27.800    NaN\n",
       "Name: participant, Length: 9009, dtype: object"
      ]
     },
     "execution_count": 12,
     "metadata": {},
     "output_type": "execute_result"
    }
   ],
   "source": [
    "data_resampled[\"participant\"]"
   ]
  },
  {
   "cell_type": "code",
   "execution_count": 13,
   "metadata": {},
   "outputs": [
    {
     "data": {
      "text/html": [
       "<div>\n",
       "<style scoped>\n",
       "    .dataframe tbody tr th:only-of-type {\n",
       "        vertical-align: middle;\n",
       "    }\n",
       "\n",
       "    .dataframe tbody tr th {\n",
       "        vertical-align: top;\n",
       "    }\n",
       "\n",
       "    .dataframe thead th {\n",
       "        text-align: right;\n",
       "    }\n",
       "</style>\n",
       "<table border=\"1\" class=\"dataframe\">\n",
       "  <thead>\n",
       "    <tr style=\"text-align: right;\">\n",
       "      <th></th>\n",
       "      <th>acc_x</th>\n",
       "      <th>acc_y</th>\n",
       "      <th>acc_z</th>\n",
       "      <th>gyr_x</th>\n",
       "      <th>gyr_y</th>\n",
       "      <th>gyr_z</th>\n",
       "      <th>participant</th>\n",
       "      <th>label</th>\n",
       "      <th>category</th>\n",
       "      <th>set</th>\n",
       "    </tr>\n",
       "    <tr>\n",
       "      <th>epoch (ms)</th>\n",
       "      <th></th>\n",
       "      <th></th>\n",
       "      <th></th>\n",
       "      <th></th>\n",
       "      <th></th>\n",
       "      <th></th>\n",
       "      <th></th>\n",
       "      <th></th>\n",
       "      <th></th>\n",
       "      <th></th>\n",
       "    </tr>\n",
       "  </thead>\n",
       "  <tbody>\n",
       "    <tr>\n",
       "      <th>2019-01-11 15:08:05.200</th>\n",
       "      <td>0.013500</td>\n",
       "      <td>0.977000</td>\n",
       "      <td>-0.071000</td>\n",
       "      <td>-1.8904</td>\n",
       "      <td>2.4392</td>\n",
       "      <td>0.9388</td>\n",
       "      <td>NaN</td>\n",
       "      <td>bench</td>\n",
       "      <td>heavy</td>\n",
       "      <td>30</td>\n",
       "    </tr>\n",
       "    <tr>\n",
       "      <th>2019-01-11 15:08:05.400</th>\n",
       "      <td>-0.001500</td>\n",
       "      <td>0.970500</td>\n",
       "      <td>-0.079500</td>\n",
       "      <td>-1.6826</td>\n",
       "      <td>-0.8904</td>\n",
       "      <td>2.1708</td>\n",
       "      <td>NaN</td>\n",
       "      <td>bench</td>\n",
       "      <td>heavy</td>\n",
       "      <td>30</td>\n",
       "    </tr>\n",
       "    <tr>\n",
       "      <th>2019-01-11 15:08:05.600</th>\n",
       "      <td>0.001333</td>\n",
       "      <td>0.971667</td>\n",
       "      <td>-0.064333</td>\n",
       "      <td>2.5608</td>\n",
       "      <td>-0.2560</td>\n",
       "      <td>-1.4146</td>\n",
       "      <td>NaN</td>\n",
       "      <td>bench</td>\n",
       "      <td>heavy</td>\n",
       "      <td>30</td>\n",
       "    </tr>\n",
       "    <tr>\n",
       "      <th>2019-01-11 15:08:05.800</th>\n",
       "      <td>-0.024000</td>\n",
       "      <td>0.957000</td>\n",
       "      <td>-0.073500</td>\n",
       "      <td>8.0610</td>\n",
       "      <td>-4.5244</td>\n",
       "      <td>-2.0730</td>\n",
       "      <td>NaN</td>\n",
       "      <td>bench</td>\n",
       "      <td>heavy</td>\n",
       "      <td>30</td>\n",
       "    </tr>\n",
       "    <tr>\n",
       "      <th>2019-01-11 15:08:06.000</th>\n",
       "      <td>-0.028000</td>\n",
       "      <td>0.957667</td>\n",
       "      <td>-0.115000</td>\n",
       "      <td>2.4390</td>\n",
       "      <td>-1.5486</td>\n",
       "      <td>-3.6098</td>\n",
       "      <td>NaN</td>\n",
       "      <td>bench</td>\n",
       "      <td>heavy</td>\n",
       "      <td>30</td>\n",
       "    </tr>\n",
       "    <tr>\n",
       "      <th>...</th>\n",
       "      <td>...</td>\n",
       "      <td>...</td>\n",
       "      <td>...</td>\n",
       "      <td>...</td>\n",
       "      <td>...</td>\n",
       "      <td>...</td>\n",
       "      <td>...</td>\n",
       "      <td>...</td>\n",
       "      <td>...</td>\n",
       "      <td>...</td>\n",
       "    </tr>\n",
       "    <tr>\n",
       "      <th>2019-01-20 17:33:27.000</th>\n",
       "      <td>-0.048000</td>\n",
       "      <td>-1.041500</td>\n",
       "      <td>-0.076500</td>\n",
       "      <td>1.4146</td>\n",
       "      <td>-5.6218</td>\n",
       "      <td>0.2926</td>\n",
       "      <td>NaN</td>\n",
       "      <td>row</td>\n",
       "      <td>medium</td>\n",
       "      <td>90</td>\n",
       "    </tr>\n",
       "    <tr>\n",
       "      <th>2019-01-20 17:33:27.200</th>\n",
       "      <td>-0.037000</td>\n",
       "      <td>-1.030333</td>\n",
       "      <td>-0.053333</td>\n",
       "      <td>-2.7684</td>\n",
       "      <td>-0.5854</td>\n",
       "      <td>2.2440</td>\n",
       "      <td>NaN</td>\n",
       "      <td>row</td>\n",
       "      <td>medium</td>\n",
       "      <td>90</td>\n",
       "    </tr>\n",
       "    <tr>\n",
       "      <th>2019-01-20 17:33:27.400</th>\n",
       "      <td>-0.060000</td>\n",
       "      <td>-1.031000</td>\n",
       "      <td>-0.082000</td>\n",
       "      <td>2.8416</td>\n",
       "      <td>-5.1342</td>\n",
       "      <td>-0.1220</td>\n",
       "      <td>NaN</td>\n",
       "      <td>row</td>\n",
       "      <td>medium</td>\n",
       "      <td>90</td>\n",
       "    </tr>\n",
       "    <tr>\n",
       "      <th>2019-01-20 17:33:27.600</th>\n",
       "      <td>-0.038667</td>\n",
       "      <td>-1.025667</td>\n",
       "      <td>-0.044667</td>\n",
       "      <td>-0.2318</td>\n",
       "      <td>0.2562</td>\n",
       "      <td>1.1220</td>\n",
       "      <td>NaN</td>\n",
       "      <td>row</td>\n",
       "      <td>medium</td>\n",
       "      <td>90</td>\n",
       "    </tr>\n",
       "    <tr>\n",
       "      <th>2019-01-20 17:33:27.800</th>\n",
       "      <td>-0.044000</td>\n",
       "      <td>-1.034000</td>\n",
       "      <td>-0.059000</td>\n",
       "      <td>1.0980</td>\n",
       "      <td>-4.0240</td>\n",
       "      <td>0.9760</td>\n",
       "      <td>NaN</td>\n",
       "      <td>row</td>\n",
       "      <td>medium</td>\n",
       "      <td>90</td>\n",
       "    </tr>\n",
       "  </tbody>\n",
       "</table>\n",
       "<p>9009 rows × 10 columns</p>\n",
       "</div>"
      ],
      "text/plain": [
       "                            acc_x     acc_y     acc_z   gyr_x   gyr_y   gyr_z  \\\n",
       "epoch (ms)                                                                      \n",
       "2019-01-11 15:08:05.200  0.013500  0.977000 -0.071000 -1.8904  2.4392  0.9388   \n",
       "2019-01-11 15:08:05.400 -0.001500  0.970500 -0.079500 -1.6826 -0.8904  2.1708   \n",
       "2019-01-11 15:08:05.600  0.001333  0.971667 -0.064333  2.5608 -0.2560 -1.4146   \n",
       "2019-01-11 15:08:05.800 -0.024000  0.957000 -0.073500  8.0610 -4.5244 -2.0730   \n",
       "2019-01-11 15:08:06.000 -0.028000  0.957667 -0.115000  2.4390 -1.5486 -3.6098   \n",
       "...                           ...       ...       ...     ...     ...     ...   \n",
       "2019-01-20 17:33:27.000 -0.048000 -1.041500 -0.076500  1.4146 -5.6218  0.2926   \n",
       "2019-01-20 17:33:27.200 -0.037000 -1.030333 -0.053333 -2.7684 -0.5854  2.2440   \n",
       "2019-01-20 17:33:27.400 -0.060000 -1.031000 -0.082000  2.8416 -5.1342 -0.1220   \n",
       "2019-01-20 17:33:27.600 -0.038667 -1.025667 -0.044667 -0.2318  0.2562  1.1220   \n",
       "2019-01-20 17:33:27.800 -0.044000 -1.034000 -0.059000  1.0980 -4.0240  0.9760   \n",
       "\n",
       "                        participant  label category  set  \n",
       "epoch (ms)                                                \n",
       "2019-01-11 15:08:05.200         NaN  bench    heavy   30  \n",
       "2019-01-11 15:08:05.400         NaN  bench    heavy   30  \n",
       "2019-01-11 15:08:05.600         NaN  bench    heavy   30  \n",
       "2019-01-11 15:08:05.800         NaN  bench    heavy   30  \n",
       "2019-01-11 15:08:06.000         NaN  bench    heavy   30  \n",
       "...                             ...    ...      ...  ...  \n",
       "2019-01-20 17:33:27.000         NaN    row   medium   90  \n",
       "2019-01-20 17:33:27.200         NaN    row   medium   90  \n",
       "2019-01-20 17:33:27.400         NaN    row   medium   90  \n",
       "2019-01-20 17:33:27.600         NaN    row   medium   90  \n",
       "2019-01-20 17:33:27.800         NaN    row   medium   90  \n",
       "\n",
       "[9009 rows x 10 columns]"
      ]
     },
     "execution_count": 13,
     "metadata": {},
     "output_type": "execute_result"
    }
   ],
   "source": [
    "data_resampled"
   ]
  }
 ],
 "metadata": {
  "kernelspec": {
   "display_name": "tracking-barbell-exercises",
   "language": "python",
   "name": "python3"
  },
  "language_info": {
   "codemirror_mode": {
    "name": "ipython",
    "version": 3
   },
   "file_extension": ".py",
   "mimetype": "text/x-python",
   "name": "python",
   "nbconvert_exporter": "python",
   "pygments_lexer": "ipython3",
   "version": "3.8.20"
  }
 },
 "nbformat": 4,
 "nbformat_minor": 2
}
